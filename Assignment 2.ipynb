{
 "cells": [
  {
   "cell_type": "code",
   "execution_count": 5,
   "id": "d7b1f078-0f45-4da9-b856-f6f20414f454",
   "metadata": {},
   "outputs": [],
   "source": [
    "import numpy as np"
   ]
  },
  {
   "cell_type": "code",
   "execution_count": null,
   "id": "72db6402-09b0-403e-aeb2-9d62a0ca78e5",
   "metadata": {},
   "outputs": [],
   "source": [
    "#Q.NO.1: Array Creation"
   ]
  },
  {
   "cell_type": "code",
   "execution_count": null,
   "id": "f144e855-1872-42ef-998f-28fa993f4fcc",
   "metadata": {},
   "outputs": [],
   "source": [
    "#Create a 1-dimensional array of integers from 1 to 10."
   ]
  },
  {
   "cell_type": "code",
   "execution_count": 3,
   "id": "62afd548-28f9-4875-898d-0db2aa0c4d98",
   "metadata": {},
   "outputs": [
    {
     "data": {
      "text/plain": [
       "array([ 1,  2,  3,  4,  5,  6,  7,  8,  9, 10])"
      ]
     },
     "execution_count": 3,
     "metadata": {},
     "output_type": "execute_result"
    }
   ],
   "source": [
    "array_1d = np.arange(1, 11)\n",
    "array_1d"
   ]
  },
  {
   "cell_type": "code",
   "execution_count": null,
   "id": "9a6ae78e-f26b-40cf-a219-04ba8e109072",
   "metadata": {},
   "outputs": [],
   "source": [
    "#Create a 2-dimensional array with random float values of shape (3, 4)."
   ]
  },
  {
   "cell_type": "code",
   "execution_count": 7,
   "id": "5cb2d926-cdae-4bde-84af-14e0ba6fe5ce",
   "metadata": {},
   "outputs": [
    {
     "data": {
      "text/plain": [
       "array([[0.19597403, 0.39602272, 0.10618824, 0.03507249],\n",
       "       [0.00395988, 0.67581262, 0.46816151, 0.47816459],\n",
       "       [0.72499671, 0.76349317, 0.82804047, 0.06144671]])"
      ]
     },
     "execution_count": 7,
     "metadata": {},
     "output_type": "execute_result"
    }
   ],
   "source": [
    "array_2d = np.random.rand(3, 4)\n",
    "array_2d"
   ]
  },
  {
   "cell_type": "code",
   "execution_count": 9,
   "id": "490549e1-b9a8-4367-8cb0-e82c1e12099c",
   "metadata": {},
   "outputs": [],
   "source": [
    "#Create a 3-dimensional array of zeros with shape (2, 3, 4)."
   ]
  },
  {
   "cell_type": "code",
   "execution_count": 11,
   "id": "7634e685-ff4b-4669-aa71-3b4fcb179527",
   "metadata": {},
   "outputs": [
    {
     "data": {
      "text/plain": [
       "array([[[0., 0., 0., 0.],\n",
       "        [0., 0., 0., 0.],\n",
       "        [0., 0., 0., 0.]],\n",
       "\n",
       "       [[0., 0., 0., 0.],\n",
       "        [0., 0., 0., 0.],\n",
       "        [0., 0., 0., 0.]]])"
      ]
     },
     "execution_count": 11,
     "metadata": {},
     "output_type": "execute_result"
    }
   ],
   "source": [
    "array_3d = np.zeros((2, 3, 4))\n",
    "array_3d"
   ]
  },
  {
   "cell_type": "code",
   "execution_count": 13,
   "id": "758c64da-2670-4615-94d7-896ea8f94855",
   "metadata": {},
   "outputs": [],
   "source": [
    "# Q.No.2 Array Operations"
   ]
  },
  {
   "cell_type": "code",
   "execution_count": 15,
   "id": "c2d983db-02c6-4268-9f4f-07d9855a2b5b",
   "metadata": {},
   "outputs": [],
   "source": [
    "#Given two 1-dimensional arrays, perform element-wise addition,subtraction, multiplication, and division."
   ]
  },
  {
   "cell_type": "code",
   "execution_count": 17,
   "id": "767a9418-80be-4b71-bd43-1c347bbef226",
   "metadata": {},
   "outputs": [
    {
     "data": {
      "text/plain": [
       "array([ 6,  8, 10, 12])"
      ]
     },
     "execution_count": 17,
     "metadata": {},
     "output_type": "execute_result"
    }
   ],
   "source": [
    "a = np.array([1, 2, 3, 4])\n",
    "b = np.array([5, 6, 7, 8])\n",
    "\n",
    "c=a+b\n",
    "c"
   ]
  },
  {
   "cell_type": "code",
   "execution_count": 19,
   "id": "5787ce6c-9c06-4c75-8b44-3c3094d13a59",
   "metadata": {},
   "outputs": [
    {
     "data": {
      "text/plain": [
       "array([-4, -4, -4, -4])"
      ]
     },
     "execution_count": 19,
     "metadata": {},
     "output_type": "execute_result"
    }
   ],
   "source": [
    "d=a-b\n",
    "d"
   ]
  },
  {
   "cell_type": "code",
   "execution_count": 21,
   "id": "92e7538a-538a-42dd-9924-bbe1167cf704",
   "metadata": {},
   "outputs": [
    {
     "data": {
      "text/plain": [
       "array([ 5, 12, 21, 32])"
      ]
     },
     "execution_count": 21,
     "metadata": {},
     "output_type": "execute_result"
    }
   ],
   "source": [
    "e=a*b\n",
    "e"
   ]
  },
  {
   "cell_type": "code",
   "execution_count": 23,
   "id": "b22fe85c-d67c-46cd-a312-81ed6c607372",
   "metadata": {},
   "outputs": [
    {
     "data": {
      "text/plain": [
       "array([0.2       , 0.33333333, 0.42857143, 0.5       ])"
      ]
     },
     "execution_count": 23,
     "metadata": {},
     "output_type": "execute_result"
    }
   ],
   "source": [
    "f=a/b\n",
    "f"
   ]
  },
  {
   "cell_type": "code",
   "execution_count": 25,
   "id": "057f9dfd-c7fd-4349-9d72-7d52e57d1f83",
   "metadata": {},
   "outputs": [],
   "source": [
    "#Calculate the mean, median, and standard deviation of a given 1-dimensional array."
   ]
  },
  {
   "cell_type": "code",
   "execution_count": 27,
   "id": "688f4cbe-8f30-4561-97ce-57ccdd19e74c",
   "metadata": {},
   "outputs": [
    {
     "data": {
      "text/plain": [
       "3.5"
      ]
     },
     "execution_count": 27,
     "metadata": {},
     "output_type": "execute_result"
    }
   ],
   "source": [
    "arr = np.array([1, 2, 3, 4, 5, 6])\n",
    "\n",
    "mean_value = np.mean(arr)\n",
    "mean_value"
   ]
  },
  {
   "cell_type": "code",
   "execution_count": 29,
   "id": "9d3f8a2d-2c1b-4db6-aec2-d0396a0e1c6e",
   "metadata": {},
   "outputs": [
    {
     "data": {
      "text/plain": [
       "3.5"
      ]
     },
     "execution_count": 29,
     "metadata": {},
     "output_type": "execute_result"
    }
   ],
   "source": [
    "median_value = np.median(arr)\n",
    "median_value"
   ]
  },
  {
   "cell_type": "code",
   "execution_count": 31,
   "id": "0091b0ee-7e94-48b2-80d1-a3eca042ff05",
   "metadata": {},
   "outputs": [
    {
     "data": {
      "text/plain": [
       "1.707825127659933"
      ]
     },
     "execution_count": 31,
     "metadata": {},
     "output_type": "execute_result"
    }
   ],
   "source": [
    "std_value = np.std(arr)\n",
    "std_value"
   ]
  },
  {
   "cell_type": "code",
   "execution_count": 33,
   "id": "79ad1a9a-510a-4b31-9d3f-9ac6e6076789",
   "metadata": {},
   "outputs": [],
   "source": [
    "#Reshape a 1-dimensional array into a 2-dimensional array of shape (3,4)."
   ]
  },
  {
   "cell_type": "code",
   "execution_count": 35,
   "id": "f3695ebf-4e07-490a-a427-907d59e290c7",
   "metadata": {},
   "outputs": [
    {
     "data": {
      "text/plain": [
       "array([[ 1,  2,  3,  4],\n",
       "       [ 5,  6,  7,  8],\n",
       "       [ 9, 10, 11, 12]])"
      ]
     },
     "execution_count": 35,
     "metadata": {},
     "output_type": "execute_result"
    }
   ],
   "source": [
    "array_1d = np.arange(1, 13)  \n",
    "\n",
    "\n",
    "reshaped_array = array_1d.reshape(3, 4)\n",
    "reshaped_array"
   ]
  },
  {
   "cell_type": "code",
   "execution_count": 37,
   "id": "a1ac9a43-2d83-4c55-9fc0-de7c67bf9298",
   "metadata": {},
   "outputs": [],
   "source": [
    "#Q.No.3 Array Indexing and Slicing"
   ]
  },
  {
   "cell_type": "code",
   "execution_count": 43,
   "id": "d455d757-72e7-49f3-bd16-321fc8aa4b36",
   "metadata": {},
   "outputs": [],
   "source": [
    "#Extract the first row and last column of a 2-dimensional array."
   ]
  },
  {
   "cell_type": "code",
   "execution_count": 41,
   "id": "67768d96-8bc7-4e71-9fb7-99b5b1541d36",
   "metadata": {},
   "outputs": [
    {
     "data": {
      "text/plain": [
       "array([1, 2, 3])"
      ]
     },
     "execution_count": 41,
     "metadata": {},
     "output_type": "execute_result"
    }
   ],
   "source": [
    "array_2d = np.array([[1, 2, 3], [4, 5, 6], [7, 8, 9]])\n",
    "\n",
    "first_row = array_2d[0, :]\n",
    "first_row"
   ]
  },
  {
   "cell_type": "code",
   "execution_count": 45,
   "id": "aec3a3af-066a-4073-9fcf-8e9a84b9a063",
   "metadata": {},
   "outputs": [
    {
     "data": {
      "text/plain": [
       "array([3, 6, 9])"
      ]
     },
     "execution_count": 45,
     "metadata": {},
     "output_type": "execute_result"
    }
   ],
   "source": [
    "last_column = array_2d[:, -1]\n",
    "last_column"
   ]
  },
  {
   "cell_type": "code",
   "execution_count": 47,
   "id": "6fdba83f-f8cf-4903-9e30-becb98e78e4f",
   "metadata": {},
   "outputs": [],
   "source": [
    "#Reverse the order of elements in a 1-dimensional array."
   ]
  },
  {
   "cell_type": "code",
   "execution_count": 49,
   "id": "0ba3ddf2-c9ec-4257-acff-b6fd70d7f20a",
   "metadata": {},
   "outputs": [
    {
     "data": {
      "text/plain": [
       "array([5, 4, 3, 2, 1])"
      ]
     },
     "execution_count": 49,
     "metadata": {},
     "output_type": "execute_result"
    }
   ],
   "source": [
    "array_1d = np.array([1, 2, 3, 4, 5])\n",
    "\n",
    "reversed_array = array_1d[::-1]\n",
    "reversed_array"
   ]
  },
  {
   "cell_type": "code",
   "execution_count": 53,
   "id": "4d3e6211-4e7d-47a4-8938-66c21e04eaea",
   "metadata": {},
   "outputs": [],
   "source": [
    "#Select elements from a 2-dimensional array that satisfy a specific condition (e.g., values greater than a certain threshold)."
   ]
  },
  {
   "cell_type": "code",
   "execution_count": 55,
   "id": "3cf4f491-1845-427e-96b7-2ae1fb4f7eca",
   "metadata": {},
   "outputs": [
    {
     "data": {
      "text/plain": [
       "array([6, 7, 8, 9])"
      ]
     },
     "execution_count": 55,
     "metadata": {},
     "output_type": "execute_result"
    }
   ],
   "source": [
    "array_2d = np.array([[1, 2, 3], [4, 5, 6], [7, 8, 9]])\n",
    "\n",
    "selected_elements = array_2d[array_2d > 5]\n",
    "selected_elements"
   ]
  },
  {
   "cell_type": "code",
   "execution_count": 57,
   "id": "3414ff1a-0352-48e4-855c-f363682ef5d7",
   "metadata": {},
   "outputs": [],
   "source": [
    "# Q.No.4 Array Broadcasting"
   ]
  },
  {
   "cell_type": "code",
   "execution_count": 63,
   "id": "e09d5686-bd52-42fb-9e02-16ce3e024d8f",
   "metadata": {},
   "outputs": [],
   "source": [
    "#o Add a scalar value to each element of a 2-dimensional array."
   ]
  },
  {
   "cell_type": "code",
   "execution_count": 61,
   "id": "ec3d7f46-f75c-4a4f-b80c-9eef4c0a7e9b",
   "metadata": {},
   "outputs": [
    {
     "data": {
      "text/plain": [
       "array([[11, 12, 13],\n",
       "       [14, 15, 16],\n",
       "       [17, 18, 19]])"
      ]
     },
     "execution_count": 61,
     "metadata": {},
     "output_type": "execute_result"
    }
   ],
   "source": [
    "array_2d = np.array([[1, 2, 3], [4, 5, 6], [7, 8, 9]])\n",
    "\n",
    "array_with_scalar = array_2d + 10\n",
    "array_with_scalar"
   ]
  },
  {
   "cell_type": "code",
   "execution_count": 65,
   "id": "c4cfad39-cca8-4715-b55a-559476f0a95c",
   "metadata": {},
   "outputs": [],
   "source": [
    "#Multiply a 1-dimensional array with a 2-dimensional array, leveraging NumPy's broadcasting rules."
   ]
  },
  {
   "cell_type": "code",
   "execution_count": 67,
   "id": "49eb957a-1ba0-45d2-ac04-63cd69be5119",
   "metadata": {},
   "outputs": [
    {
     "data": {
      "text/plain": [
       "array([[ 1,  4,  9],\n",
       "       [ 4, 10, 18],\n",
       "       [ 7, 16, 27]])"
      ]
     },
     "execution_count": 67,
     "metadata": {},
     "output_type": "execute_result"
    }
   ],
   "source": [
    "array_1d = np.array([1, 2, 3])\n",
    "\n",
    "array_2d = np.array([[1, 2, 3], [4, 5, 6], [7, 8, 9]])\n",
    "\n",
    "result = array_2d * array_1d\n",
    "result\n"
   ]
  },
  {
   "cell_type": "code",
   "execution_count": 69,
   "id": "703867e4-ca03-467f-8466-910689e8d755",
   "metadata": {},
   "outputs": [],
   "source": [
    "#Q.NO.5 LINEAR ALGEBRA"
   ]
  },
  {
   "cell_type": "code",
   "execution_count": 71,
   "id": "89ecc5e4-5305-405f-8e48-e8bbf4c9cde7",
   "metadata": {},
   "outputs": [],
   "source": [
    "#Calculate the dot product of two 1-dimensional arrays."
   ]
  },
  {
   "cell_type": "code",
   "execution_count": 73,
   "id": "cd6cf5db-6886-4b7f-a0ac-8b4d24ab0513",
   "metadata": {},
   "outputs": [
    {
     "data": {
      "text/plain": [
       "32"
      ]
     },
     "execution_count": 73,
     "metadata": {},
     "output_type": "execute_result"
    }
   ],
   "source": [
    "a = np.array([1, 2, 3])\n",
    "b = np.array([4, 5, 6])\n",
    "\n",
    "\n",
    "dot_product = np.dot(a, b)\n",
    "dot_product"
   ]
  },
  {
   "cell_type": "code",
   "execution_count": 75,
   "id": "b2fcb517-db10-45aa-b6be-3ba5ccd72125",
   "metadata": {},
   "outputs": [],
   "source": [
    "#Compute the matrix multiplication of two 2-dimensional arrays."
   ]
  },
  {
   "cell_type": "code",
   "execution_count": 77,
   "id": "15810394-0e70-4627-a37e-a07f476203d6",
   "metadata": {},
   "outputs": [
    {
     "data": {
      "text/plain": [
       "array([[19, 22],\n",
       "       [43, 50]])"
      ]
     },
     "execution_count": 77,
     "metadata": {},
     "output_type": "execute_result"
    }
   ],
   "source": [
    "A = np.array([[1, 2], [3, 4]])\n",
    "B = np.array([[5, 6], [7, 8]])\n",
    "\n",
    "matrix_product = np.matmul(A, B)  \n",
    "matrix_product"
   ]
  },
  {
   "cell_type": "code",
   "execution_count": 79,
   "id": "540d6e31-7891-42b9-9f97-af8905e42561",
   "metadata": {},
   "outputs": [],
   "source": [
    "#Find the inverse and determinant of a square matrix."
   ]
  },
  {
   "cell_type": "code",
   "execution_count": 85,
   "id": "a03418de-8886-4709-96d9-f241a8d039e4",
   "metadata": {},
   "outputs": [
    {
     "data": {
      "text/plain": [
       "array([[-2. ,  1. ],\n",
       "       [ 1.5, -0.5]])"
      ]
     },
     "execution_count": 85,
     "metadata": {},
     "output_type": "execute_result"
    }
   ],
   "source": [
    "matrix = np.array([[1, 2], [3, 4]])\n",
    "\n",
    "inverse_matrix = np.linalg.inv(matrix)\n",
    "inverse_matrix\n",
    "\n",
    "\n"
   ]
  },
  {
   "cell_type": "code",
   "execution_count": 87,
   "id": "20dab215-3d42-453b-a497-9b043a52b387",
   "metadata": {},
   "outputs": [
    {
     "data": {
      "text/plain": [
       "-2.0000000000000004"
      ]
     },
     "execution_count": 87,
     "metadata": {},
     "output_type": "execute_result"
    }
   ],
   "source": [
    "determinant = np.linalg.det(matrix)\n",
    "determinant"
   ]
  },
  {
   "cell_type": "code",
   "execution_count": null,
   "id": "46249922-9125-4b05-a7e0-fc86c5b7d877",
   "metadata": {},
   "outputs": [],
   "source": []
  }
 ],
 "metadata": {
  "kernelspec": {
   "display_name": "Python 3 (ipykernel)",
   "language": "python",
   "name": "python3"
  },
  "language_info": {
   "codemirror_mode": {
    "name": "ipython",
    "version": 3
   },
   "file_extension": ".py",
   "mimetype": "text/x-python",
   "name": "python",
   "nbconvert_exporter": "python",
   "pygments_lexer": "ipython3",
   "version": "3.12.7"
  }
 },
 "nbformat": 4,
 "nbformat_minor": 5
}
